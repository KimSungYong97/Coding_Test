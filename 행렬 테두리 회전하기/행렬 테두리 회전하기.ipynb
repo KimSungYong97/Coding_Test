{
 "cells": [
  {
   "cell_type": "code",
   "execution_count": 3,
   "metadata": {},
   "outputs": [],
   "source": [
    "def solution(rows, columns, queries):\n",
    "    board=[[i+columns*j+1 for i in range(columns)] for j in range(rows)]\n",
    "    #초기 보드판 생성\n",
    "    answer = []\n",
    "    for q in queries:# 쿼리동안\n",
    "        \n",
    "        arr=[]\n",
    "        # arr에 범위에 해당하는 숫자들 삽입\n",
    "        for i in range(q[1]-1,q[3]-1):\n",
    "            arr.append(board[q[0]-1][i])\n",
    "        for i in range(q[0]-1,q[2]-1):\n",
    "            arr.append(board[i][q[3]-1])\n",
    "        for i in range(q[3]-1,q[1]-1,-1):\n",
    "            arr.append(board[q[2]-1][i])\n",
    "        for i in range(q[2]-1,q[0]-1,-1):\n",
    "            arr.append(board[i][q[1]-1])\n",
    "        \n",
    "        answer.append(min(arr)) #arr중 가장 작은 값 삽입\n",
    "        \n",
    "        #arr에 있는 값을 기존 보드판에 한칸씩 밀어서 삽입\n",
    "        for i in range(q[1],q[3]):\n",
    "            board[q[0]-1][i] = arr.pop(0)\n",
    "        for i in range(q[0],q[2]):\n",
    "            board[i][q[3]-1]= arr.pop(0)\n",
    "        for i in range(q[3]-2,q[1]-2,-1):\n",
    "            board[q[2]-1][i]= arr.pop(0)\n",
    "        for i in range(q[2]-2,q[0]-2,-1):\n",
    "            board[i][q[1]-1]= arr.pop(0)\n",
    "            \n",
    "            \n",
    "    \n",
    "    \n",
    "    return answer"
   ]
  },
  {
   "cell_type": "code",
   "execution_count": 4,
   "metadata": {},
   "outputs": [
    {
     "data": {
      "text/plain": [
       "[1]"
      ]
     },
     "execution_count": 4,
     "metadata": {},
     "output_type": "execute_result"
    }
   ],
   "source": [
    "solution(100,97,[[1,1,100,97]])"
   ]
  },
  {
   "cell_type": "code",
   "execution_count": null,
   "metadata": {},
   "outputs": [],
   "source": []
  }
 ],
 "metadata": {
  "kernelspec": {
   "display_name": "Python 3",
   "language": "python",
   "name": "python3"
  },
  "language_info": {
   "codemirror_mode": {
    "name": "ipython",
    "version": 3
   },
   "file_extension": ".py",
   "mimetype": "text/x-python",
   "name": "python",
   "nbconvert_exporter": "python",
   "pygments_lexer": "ipython3",
   "version": "3.6.8"
  }
 },
 "nbformat": 4,
 "nbformat_minor": 4
}
