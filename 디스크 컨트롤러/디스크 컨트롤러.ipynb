{
 "cells": [
  {
   "cell_type": "code",
   "execution_count": 69,
   "metadata": {},
   "outputs": [],
   "source": [
    "def solution(jobs):\n",
    "    jobs.sort()\n",
    "    jobs_len=len(jobs)\n",
    "    start_time=0\n",
    "    time=0\n",
    "    answer=0\n",
    "    wait_arr=[]\n",
    "    while jobs or wait_arr:\n",
    "        while(jobs and jobs[0][0] <= time ):\n",
    "            wait_arr.append(jobs.pop(0))\n",
    "        if(wait_arr):\n",
    "            wait_arr=sorted(wait_arr,key = lambda v:v[1])\n",
    "            answer+=time-wait_arr[0][0]+wait_arr[0][1]\n",
    "            time+=wait_arr[0][1]\n",
    "            wait_arr.pop(0)\n",
    "        else:\n",
    "            if(wait_arr):\n",
    "                time+=wait_arr[0][0]\n",
    "            else:\n",
    "                time+=1\n",
    "            \n",
    "    return answer//jobs_len"
   ]
  },
  {
   "cell_type": "code",
   "execution_count": 70,
   "metadata": {},
   "outputs": [
    {
     "data": {
      "text/plain": [
       "72"
      ]
     },
     "execution_count": 70,
     "metadata": {},
     "output_type": "execute_result"
    }
   ],
   "source": [
    "solution([[24, 10], [28, 39], [43, 20], [37, 5], [47, 22], [20, 47], [15, 34], [15, 2], [35, 43], [26, 1]])"
   ]
  },
  {
   "cell_type": "code",
   "execution_count": null,
   "metadata": {},
   "outputs": [],
   "source": []
  }
 ],
 "metadata": {
  "kernelspec": {
   "display_name": "Python 3",
   "language": "python",
   "name": "python3"
  },
  "language_info": {
   "codemirror_mode": {
    "name": "ipython",
    "version": 3
   },
   "file_extension": ".py",
   "mimetype": "text/x-python",
   "name": "python",
   "nbconvert_exporter": "python",
   "pygments_lexer": "ipython3",
   "version": "3.6.8"
  }
 },
 "nbformat": 4,
 "nbformat_minor": 4
}
