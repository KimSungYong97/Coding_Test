{
 "cells": [
  {
   "cell_type": "code",
   "execution_count": 140,
   "metadata": {},
   "outputs": [],
   "source": [
    "def solution(n, computers):\n",
    "    visited = [0 for _ in range(n)]\n",
    "    stack = []\n",
    "    answer=0\n",
    "    while 0 in visited:\n",
    "        stack.append(visited.index(0))\n",
    "        while stack:\n",
    "            node = stack.pop(0)\n",
    "            visited[node]=1\n",
    "            for i in range(n):\n",
    "                if(visited[i]==0 and computers[node][i]==1):\n",
    "                    stack.append(i)\n",
    "        answer+=1\n",
    "    return answer\n",
    "        "
   ]
  },
  {
   "cell_type": "code",
   "execution_count": 142,
   "metadata": {},
   "outputs": [
    {
     "name": "stdout",
     "output_type": "stream",
     "text": [
      "3 2\n",
      "1 1\n",
      "2 2\n",
      "1 1\n",
      "4 4\n",
      "4 4\n"
     ]
    }
   ],
   "source": [
    "print(solution(3, [[1, 0, 0], [1, 1, 0], [0, 0, 1]]), 2)\n",
    "print(solution(3, [[1, 1, 0], [1, 1, 1], [0, 1, 1]]), 1)\n",
    "print(solution(3, [[1, 0, 1], [0, 1, 0], [1, 0, 1]]), 2)\n",
    "print(solution(4, [[1, 1, 0, 1], [1, 1, 0, 0], [0, 0, 1, 1], [1, 0, 1, 1]]), 1)\n",
    "print(solution(4, [[1, 0, 0, 0], [0, 1, 0, 0], [0, 0, 1, 0], [0, 0, 0, 1]]), 4)\n",
    "\n",
    "print(solution(4, [[1, 0, 0, 0], [0, 1, 0, 0], [0, 0, 1, 0], [0, 0, 0, 1]]), 4)"
   ]
  },
  {
   "cell_type": "code",
   "execution_count": null,
   "metadata": {},
   "outputs": [],
   "source": []
  }
 ],
 "metadata": {
  "kernelspec": {
   "display_name": "Python 3",
   "language": "python",
   "name": "python3"
  },
  "language_info": {
   "codemirror_mode": {
    "name": "ipython",
    "version": 3
   },
   "file_extension": ".py",
   "mimetype": "text/x-python",
   "name": "python",
   "nbconvert_exporter": "python",
   "pygments_lexer": "ipython3",
   "version": "3.6.8"
  }
 },
 "nbformat": 4,
 "nbformat_minor": 4
}
