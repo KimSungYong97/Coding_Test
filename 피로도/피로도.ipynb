{
 "cells": [
  {
   "cell_type": "code",
   "execution_count": 18,
   "metadata": {},
   "outputs": [],
   "source": [
    "from itertools import permutations\n",
    "def solution(k, dungeons):\n",
    "    dungeons_combis=list(permutations(dungeons,len(dungeons)))\n",
    "    answer=-1\n",
    "    for dungeons_combi in dungeons_combis:\n",
    "        cleared_dungeons=0\n",
    "        hp=k\n",
    "        for d in dungeons_combi:\n",
    "            if(d[0]<=hp):\n",
    "                hp-=d[1]\n",
    "                cleared_dungeons+=1\n",
    "            else:\n",
    "                break\n",
    "        if(cleared_dungeons>answer):\n",
    "            answer=cleared_dungeons\n",
    "            \n",
    "    return answer"
   ]
  },
  {
   "cell_type": "code",
   "execution_count": 11,
   "metadata": {},
   "outputs": [],
   "source": [
    "def solution(k, d): \n",
    "    return max([solution(k - u, d[:i] + d[i+1:]) + 1 for i, (m, u) in enumerate(d) if k >= m] or [0]) \n",
    "#다른 사람 코드 보고 배우기 위해 정리"
   ]
  },
  {
   "cell_type": "code",
   "execution_count": 19,
   "metadata": {},
   "outputs": [
    {
     "data": {
      "text/plain": [
       "3"
      ]
     },
     "execution_count": 19,
     "metadata": {},
     "output_type": "execute_result"
    }
   ],
   "source": [
    "solution(80,[[80,20],[50,40],[30,10]])"
   ]
  },
  {
   "cell_type": "code",
   "execution_count": null,
   "metadata": {},
   "outputs": [],
   "source": []
  }
 ],
 "metadata": {
  "kernelspec": {
   "display_name": "Python 3",
   "language": "python",
   "name": "python3"
  },
  "language_info": {
   "codemirror_mode": {
    "name": "ipython",
    "version": 3
   },
   "file_extension": ".py",
   "mimetype": "text/x-python",
   "name": "python",
   "nbconvert_exporter": "python",
   "pygments_lexer": "ipython3",
   "version": "3.6.8"
  }
 },
 "nbformat": 4,
 "nbformat_minor": 4
}
