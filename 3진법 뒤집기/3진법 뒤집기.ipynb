{
 "cells": [
  {
   "cell_type": "code",
   "execution_count": 166,
   "metadata": {},
   "outputs": [],
   "source": [
    "def solution(n):\n",
    "    expo=0\n",
    "    while(n%(3**expo)<n): #숫자를 3진수로 구했을때의 자릿수 구하기\n",
    "        expo+=1\n",
    "    expo-=1\n",
    "    ex=expo\n",
    "    answer=0\n",
    "    while(n):\n",
    "        answer+=n//(3**(ex)) * 3**(expo-ex) #3진수를 구하는것과 반대로 answer에 더하기\n",
    "        n-=n//3**(ex) * 3**(ex) #3진수를 구하는것과 똑같게 n에 빼기\n",
    "        ex-=1\n",
    "    return answer"
   ]
  },
  {
   "cell_type": "code",
   "execution_count": 181,
   "metadata": {},
   "outputs": [
    {
     "name": "stdout",
     "output_type": "stream",
     "text": [
      "4\n",
      "1\n",
      "4\n",
      "13\n",
      "67\n",
      "229\n"
     ]
    },
    {
     "data": {
      "text/plain": [
       "229"
      ]
     },
     "execution_count": 181,
     "metadata": {},
     "output_type": "execute_result"
    }
   ],
   "source": [
    "solution(125)"
   ]
  },
  {
   "cell_type": "code",
   "execution_count": null,
   "metadata": {},
   "outputs": [],
   "source": []
  }
 ],
 "metadata": {
  "kernelspec": {
   "display_name": "Python 3",
   "language": "python",
   "name": "python3"
  },
  "language_info": {
   "codemirror_mode": {
    "name": "ipython",
    "version": 3
   },
   "file_extension": ".py",
   "mimetype": "text/x-python",
   "name": "python",
   "nbconvert_exporter": "python",
   "pygments_lexer": "ipython3",
   "version": "3.6.8"
  }
 },
 "nbformat": 4,
 "nbformat_minor": 4
}
