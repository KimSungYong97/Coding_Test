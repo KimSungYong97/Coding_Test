{
 "cells": [
  {
   "cell_type": "code",
   "execution_count": 1,
   "metadata": {},
   "outputs": [],
   "source": [
    "def solution(board, moves):\n",
    "    board=list(map(list, zip(*board)))\n",
    "    answer=0\n",
    "    basket=[]\n",
    "    length=len(board[0])\n",
    "    for i in moves:\n",
    "        check=1\n",
    "        num=0\n",
    "        while(check):\n",
    "            if(board[i-1][num]==0):\n",
    "                num+=1\n",
    "                if(num==length):\n",
    "                    break\n",
    "            else:\n",
    "                basket.append(board[i-1][num])\n",
    "                board[i-1][num]=0\n",
    "                check=0\n",
    "        if(len(basket)>1):\n",
    "            if(basket[-2]==basket[-1]):\n",
    "                answer+=2\n",
    "                basket.pop()\n",
    "                basket.pop()\n",
    "    return answer"
   ]
  },
  {
   "cell_type": "code",
   "execution_count": 2,
   "metadata": {},
   "outputs": [
    {
     "data": {
      "text/plain": [
       "4"
      ]
     },
     "execution_count": 2,
     "metadata": {},
     "output_type": "execute_result"
    }
   ],
   "source": [
    "solution([[0,0,0,0,0],[0,0,1,0,3],[0,2,5,0,1],[4,2,4,4,2],[3,5,1,3,1]],[1,5,3,5,1,2,1,4])"
   ]
  },
  {
   "cell_type": "code",
   "execution_count": null,
   "metadata": {},
   "outputs": [],
   "source": []
  }
 ],
 "metadata": {
  "kernelspec": {
   "display_name": "Python 3",
   "language": "python",
   "name": "python3"
  },
  "language_info": {
   "codemirror_mode": {
    "name": "ipython",
    "version": 3
   },
   "file_extension": ".py",
   "mimetype": "text/x-python",
   "name": "python",
   "nbconvert_exporter": "python",
   "pygments_lexer": "ipython3",
   "version": "3.6.8"
  }
 },
 "nbformat": 4,
 "nbformat_minor": 4
}
