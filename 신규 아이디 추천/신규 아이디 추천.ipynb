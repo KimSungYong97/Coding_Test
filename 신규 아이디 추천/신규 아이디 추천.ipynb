{
 "cells": [
  {
   "cell_type": "code",
   "execution_count": 3,
   "metadata": {},
   "outputs": [],
   "source": [
    "def solution(new_id):\n",
    "    answer = ''\n",
    "    # 1\n",
    "    new_id = new_id.lower()\n",
    "    # 2\n",
    "    for c in new_id:\n",
    "        if c.isalpha() or c.isdigit() or c in ['-', '_', '.']:\n",
    "            answer += c\n",
    "    # 3\n",
    "    while '..' in answer:\n",
    "        answer = answer.replace('..', '.')\n",
    "    # 4\n",
    "    if answer[0] == '.':\n",
    "        answer = answer[1:] if len(answer) > 1 else '.'\n",
    "    if answer[-1] == '.':\n",
    "        answer = answer[:-1]\n",
    "    # 5\n",
    "    if answer == '':\n",
    "        answer = 'a'\n",
    "    # 6\n",
    "    if len(answer) > 15:\n",
    "        answer = answer[:15]\n",
    "        if answer[-1] == '.':\n",
    "            answer = answer[:-1]\n",
    "    # 7\n",
    "    while len(answer) < 3:\n",
    "        answer += answer[-1]\n",
    "    return answer"
   ]
  },
  {
   "cell_type": "code",
   "execution_count": 4,
   "metadata": {},
   "outputs": [
    {
     "name": "stdout",
     "output_type": "stream",
     "text": [
      "...!@bat#*..y.abcdefghijklm\n"
     ]
    },
    {
     "data": {
      "text/plain": [
       "'bat.y.abcdefghi'"
      ]
     },
     "execution_count": 4,
     "metadata": {},
     "output_type": "execute_result"
    }
   ],
   "source": [
    "solution(\"...!@BaT#*..y.abcdefghijklm\")"
   ]
  },
  {
   "cell_type": "code",
   "execution_count": null,
   "metadata": {},
   "outputs": [],
   "source": []
  }
 ],
 "metadata": {
  "kernelspec": {
   "display_name": "Python 3",
   "language": "python",
   "name": "python3"
  },
  "language_info": {
   "codemirror_mode": {
    "name": "ipython",
    "version": 3
   },
   "file_extension": ".py",
   "mimetype": "text/x-python",
   "name": "python",
   "nbconvert_exporter": "python",
   "pygments_lexer": "ipython3",
   "version": "3.6.8"
  }
 },
 "nbformat": 4,
 "nbformat_minor": 4
}
