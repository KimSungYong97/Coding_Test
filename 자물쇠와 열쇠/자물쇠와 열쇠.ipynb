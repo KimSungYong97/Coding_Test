{
 "cells": [
  {
   "cell_type": "code",
   "execution_count": 186,
   "metadata": {},
   "outputs": [],
   "source": [
    "def lr(key,N): #키를 양옆으로 이동 시켰을때의 모든 경우 \n",
    "    case=[key]\n",
    "    for i in range(1,N):\n",
    "        left=[]\n",
    "        right=[]\n",
    "        for k in key:\n",
    "            left.append([0]*i+k[:-i])\n",
    "            right.append(k[i:]+[0]*i)\n",
    "        case.append(right)\n",
    "        case.append(left)\n",
    "    return case\n",
    "\n",
    "def ud(key,N): #키를 위아래로 이동 시켰을때의 모든 경우 \n",
    "    case=[]\n",
    "    for k in key:\n",
    "        case.append(k)\n",
    "        for i in range(1,N):\n",
    "            case.append([[0]*N]*i+k[:N-i])\n",
    "            case.append(k[i:]+[[0]*N]*i)\n",
    "    return case\n",
    "\n",
    "def rot(key,N): #키를 회전 시켰을때의 모든 경우 \n",
    "    \n",
    "    case=[]\n",
    "    for k in key:\n",
    "        case.append(k)\n",
    "        ret90 = [[0] * N for _ in range(N)]\n",
    "        ret180 = [[0] * N for _ in range(N)]\n",
    "        ret270 = [[0] * N for _ in range(N)]\n",
    "        \n",
    "        for r in range(N):\n",
    "            for c in range(N):\n",
    "                ret90[c][N-1-r] = k[r][c]\n",
    "                ret180[N-1-r][N-1-c] = k[r][c]\n",
    "                ret270[N-1-c][r] = k[r][c]\n",
    "                \n",
    "        case.append(ret90)\n",
    "        case.append(ret180)\n",
    "        case.append(ret270)\n",
    "    return case\n",
    "\n",
    "def solution(key, lock):\n",
    "    N=len(lock)\n",
    "    M=len(key)\n",
    "    \n",
    "    if(M<N): #lock 의 크기가 key보다 큰 경우 key의 크기를 lock 만큼 늘려줌\n",
    "        key=[key[i]+[0]*(N-M) for i in range(M)]\n",
    "        for i in range(N-M):\n",
    "            key.append([0]*N) \n",
    "            \n",
    "    case_key=rot(ud(lr(key,N),N),N) #key의 모든 경우의 수를 저장\n",
    "    \n",
    "    fit_array=[[1 for i in range(N)] for j in range(N)]\n",
    "    \n",
    "    for case in case_key: #모든 경우 중 하나라도 맞으면 return true, 아니면 return false\n",
    "        case_arr=[[lock[i][j]+case[i][j] for i in range(N)] for j in range(N)]\n",
    "        if(fit_array==case_arr):\n",
    "            return True\n",
    "    return False"
   ]
  },
  {
   "cell_type": "code",
   "execution_count": 187,
   "metadata": {},
   "outputs": [
    {
     "data": {
      "text/plain": [
       "True"
      ]
     },
     "execution_count": 187,
     "metadata": {},
     "output_type": "execute_result"
    }
   ],
   "source": [
    "solution([[0, 0, 0], [1, 0, 0], [0, 1, 1]],[[1, 1, 1], [1, 1, 0], [1, 0, 1]])"
   ]
  },
  {
   "cell_type": "code",
   "execution_count": null,
   "metadata": {},
   "outputs": [],
   "source": []
  }
 ],
 "metadata": {
  "kernelspec": {
   "display_name": "Python 3",
   "language": "python",
   "name": "python3"
  },
  "language_info": {
   "codemirror_mode": {
    "name": "ipython",
    "version": 3
   },
   "file_extension": ".py",
   "mimetype": "text/x-python",
   "name": "python",
   "nbconvert_exporter": "python",
   "pygments_lexer": "ipython3",
   "version": "3.6.8"
  }
 },
 "nbformat": 4,
 "nbformat_minor": 4
}
