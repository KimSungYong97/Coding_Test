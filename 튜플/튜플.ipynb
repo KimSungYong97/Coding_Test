{
 "cells": [
  {
   "cell_type": "code",
   "execution_count": 113,
   "metadata": {},
   "outputs": [],
   "source": [
    "def solution(s):\n",
    "    s=s[2:-2] # 끝에 있는 모든 중괄호 제거\n",
    "    s=s.split('},{') # 집합끼리 묶기\n",
    "    s.sort(key=len) # 길이 순서대로 정렬\n",
    "    \n",
    "    answer=[]\n",
    "    for i in s:\n",
    "        li = i.split(',')\n",
    "        for l in li:\n",
    "            if int(l) not in answer: # 각 집합에서 기존에 있던 숫자가 아닌 새로운 숫자가 있으면 answer에 추가\n",
    "                answer.append(int(l))\n",
    "    return (answer)"
   ]
  },
  {
   "cell_type": "code",
   "execution_count": 114,
   "metadata": {},
   "outputs": [
    {
     "data": {
      "text/plain": [
       "[111, 20]"
      ]
     },
     "execution_count": 114,
     "metadata": {},
     "output_type": "execute_result"
    }
   ],
   "source": [
    "solution(\"{{20,111},{111}}\")"
   ]
  },
  {
   "cell_type": "code",
   "execution_count": null,
   "metadata": {},
   "outputs": [],
   "source": []
  }
 ],
 "metadata": {
  "kernelspec": {
   "display_name": "Python 3",
   "language": "python",
   "name": "python3"
  },
  "language_info": {
   "codemirror_mode": {
    "name": "ipython",
    "version": 3
   },
   "file_extension": ".py",
   "mimetype": "text/x-python",
   "name": "python",
   "nbconvert_exporter": "python",
   "pygments_lexer": "ipython3",
   "version": "3.6.8"
  }
 },
 "nbformat": 4,
 "nbformat_minor": 4
}
