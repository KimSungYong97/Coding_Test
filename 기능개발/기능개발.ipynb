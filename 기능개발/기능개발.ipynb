{
 "cells": [
  {
   "cell_type": "code",
   "execution_count": 9,
   "metadata": {},
   "outputs": [],
   "source": [
    "def solution(progresses, speeds):\n",
    "    answer = []\n",
    "    \n",
    "    while(progresses):\n",
    "        progresses=[progresses[i]+speeds[i] for i in range (len(progresses))]\n",
    "        #프로그래스에 스피드를 더함 == 1초 뒤 프로그래스 진행률\n",
    "        finished_work=0\n",
    "        first_prog=progresses[0]\n",
    "        while(first_prog>=100):#첫번째 프로그래스 진행률이 100을 넘기면\n",
    "            progresses.pop(0) #첫번쨰 프로그래스 종료\n",
    "            speeds.pop(0)\n",
    "            finished_work+=1 #수행 완료한 작업 +1\n",
    "            if(progresses):\n",
    "                first_prog=progresses[0] # 다음 프로그래스가 첫번째 프로그래스가 됌\n",
    "            else:\n",
    "                break #작업이 다 끝나면 break\n",
    "        if(finished_work):\n",
    "            answer.append(finished_work) #수행 완료한 작업 append\n",
    "    \n",
    "    return answer"
   ]
  },
  {
   "cell_type": "code",
   "execution_count": 10,
   "metadata": {},
   "outputs": [
    {
     "data": {
      "text/plain": [
       "[2, 1]"
      ]
     },
     "execution_count": 10,
     "metadata": {},
     "output_type": "execute_result"
    }
   ],
   "source": [
    "solution([93, 30, 55],[1, 30, 5])"
   ]
  },
  {
   "cell_type": "code",
   "execution_count": null,
   "metadata": {},
   "outputs": [],
   "source": []
  }
 ],
 "metadata": {
  "kernelspec": {
   "display_name": "Python 3",
   "language": "python",
   "name": "python3"
  },
  "language_info": {
   "codemirror_mode": {
    "name": "ipython",
    "version": 3
   },
   "file_extension": ".py",
   "mimetype": "text/x-python",
   "name": "python",
   "nbconvert_exporter": "python",
   "pygments_lexer": "ipython3",
   "version": "3.6.8"
  }
 },
 "nbformat": 4,
 "nbformat_minor": 4
}
