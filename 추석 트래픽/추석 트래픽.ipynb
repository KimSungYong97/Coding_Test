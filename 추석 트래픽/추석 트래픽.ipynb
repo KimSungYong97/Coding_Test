{
 "cells": [
  {
   "cell_type": "code",
   "execution_count": 63,
   "metadata": {},
   "outputs": [],
   "source": [
    "def solution(lines):\n",
    "    lines=[[float(i.split()[1][0:2])*3600 + float(i.split()[1][3:5])*60 + float(i.split()[1][6:])-float(i.split()[2][:-1])+0.001 ,float(i.split()[1][0:2])*3600 + float(i.split()[1][3:5])*60 + float(i.split()[1][6:])] for i in lines]\n",
    "    check_arr=[]\n",
    "    lines.sort()\n",
    "    for i in lines:\n",
    "        cnt=0\n",
    "        for j in lines:\n",
    "            if((j[1]>=i[1]and j[0]<i[1]+1)):\n",
    "                cnt+=1\n",
    "        check_arr.append(cnt)\n",
    "    return max(check_arr)"
   ]
  },
  {
   "cell_type": "code",
   "execution_count": 64,
   "metadata": {},
   "outputs": [
    {
     "data": {
      "text/plain": [
       "7"
      ]
     },
     "execution_count": 64,
     "metadata": {},
     "output_type": "execute_result"
    }
   ],
   "source": [
    "solution([\n",
    "\"2016-09-15 20:59:57.421 0.351s\",\n",
    "\"2016-09-15 20:59:58.233 1.181s\",\n",
    "\"2016-09-15 20:59:58.299 0.8s\",\n",
    "\"2016-09-15 20:59:58.688 1.041s\",\n",
    "\"2016-09-15 20:59:59.591 1.412s\",\n",
    "\"2016-09-15 21:00:00.464 1.466s\",\n",
    "\"2016-09-15 21:00:00.741 1.581s\",\n",
    "\"2016-09-15 21:00:00.748 2.31s\",\n",
    "\"2016-09-15 21:00:00.966 0.381s\",\n",
    "\"2016-09-15 21:00:02.066 2.62s\"\n",
    "])"
   ]
  },
  {
   "cell_type": "code",
   "execution_count": null,
   "metadata": {},
   "outputs": [],
   "source": []
  }
 ],
 "metadata": {
  "kernelspec": {
   "display_name": "Python 3",
   "language": "python",
   "name": "python3"
  },
  "language_info": {
   "codemirror_mode": {
    "name": "ipython",
    "version": 3
   },
   "file_extension": ".py",
   "mimetype": "text/x-python",
   "name": "python",
   "nbconvert_exporter": "python",
   "pygments_lexer": "ipython3",
   "version": "3.6.8"
  }
 },
 "nbformat": 4,
 "nbformat_minor": 4
}
