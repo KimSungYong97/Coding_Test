{
 "cells": [
  {
   "cell_type": "code",
   "execution_count": 292,
   "metadata": {},
   "outputs": [],
   "source": [
    "from itertools import combinations \n",
    "\n",
    "def solution(orders, course):\n",
    "    comb_arr=[[list(map(lambda x: ''.join(sorted(list(x))), combinations(order, c)))for order in orders] for c in course]\n",
    "    \n",
    "    comb_arr2=[]\n",
    "    for comb in comb_arr:\n",
    "        comb_arr2.append([i for c in comb for i in c])\n",
    "        \n",
    "    \n",
    "    comb_dict_arr=[]\n",
    "    for comb in comb_arr2:\n",
    "        comb_dict=dict()\n",
    "        for c in comb:\n",
    "            if(c in comb_dict.keys()):\n",
    "                comb_dict[c]+=1\n",
    "            else:\n",
    "                comb_dict[c]=1\n",
    "        comb_dict_arr.append(comb_dict)\n",
    "    \n",
    "    \n",
    "    a= [[k for k,v in di.items() if max(di.values()) == v and v >1]for di in comb_dict_arr]\n",
    "    return sorted([j for i in a for j in i])"
   ]
  },
  {
   "cell_type": "code",
   "execution_count": 293,
   "metadata": {},
   "outputs": [
    {
     "data": {
      "text/plain": [
       "['WX', 'XY']"
      ]
     },
     "execution_count": 293,
     "metadata": {},
     "output_type": "execute_result"
    }
   ],
   "source": [
    "solution([\"XYZ\", \"XWY\", \"WXA\"], [2, 3, 4])"
   ]
  },
  {
   "cell_type": "code",
   "execution_count": null,
   "metadata": {},
   "outputs": [],
   "source": []
  }
 ],
 "metadata": {
  "kernelspec": {
   "display_name": "Python 3",
   "language": "python",
   "name": "python3"
  },
  "language_info": {
   "codemirror_mode": {
    "name": "ipython",
    "version": 3
   },
   "file_extension": ".py",
   "mimetype": "text/x-python",
   "name": "python",
   "nbconvert_exporter": "python",
   "pygments_lexer": "ipython3",
   "version": "3.6.8"
  }
 },
 "nbformat": 4,
 "nbformat_minor": 4
}
