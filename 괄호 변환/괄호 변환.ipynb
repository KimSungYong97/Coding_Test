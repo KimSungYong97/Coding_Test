{
 "cells": [
  {
   "cell_type": "code",
   "execution_count": 179,
   "metadata": {},
   "outputs": [],
   "source": [
    "# 문자열 w를 u, v로 분리하는 함수\n",
    "def divide(w):\n",
    "    openP = 0\n",
    "    closeP = 0\n",
    "    \n",
    "    for i in range(len(w)):\n",
    "        if w[i] == '(':\n",
    "            openP += 1\n",
    "        else:\n",
    "            closeP += 1\n",
    "        if openP == closeP:\n",
    "            return w[:i + 1], w[i + 1:]\n",
    " \n",
    " \n",
    "# 문자열 u가 올바른 괄호 문자열인지 확인하는 함수\n",
    "def isRight(u):\n",
    "    stack = []\n",
    "    \n",
    "    for p in u:\n",
    "        if p == '(':\n",
    "            stack.append(p)\n",
    "        else:\n",
    "            if not stack:\n",
    "                return False\n",
    "            stack.pop()\n",
    "            \n",
    "    return True\n",
    "\n",
    "\n",
    "def solution(w):\n",
    "    # 과정 1\n",
    "    if not w:\n",
    "        return \"\"\n",
    "    \n",
    "    # 과정 2\n",
    "    u, v = divide(w)\n",
    "    print(u,v)\n",
    "    # 과정 3\n",
    "    if isRight(u):\n",
    "        # 과정 3-1\n",
    "        return u + solution(v)\n",
    "    # 과정 4\n",
    "    else:\n",
    "        # 과정 4-1\n",
    "        answer = '('\n",
    "        # 과정 4-2\n",
    "        answer += solution(v)\n",
    "        # 과정 4-3\n",
    "        answer += ')'\n",
    "        \n",
    "        # 과정 4-4\n",
    "        for p in u[1:len(u) - 1]:\n",
    "            if p == '(':\n",
    "                answer += ')'\n",
    "            else:\n",
    "                answer += '('\n",
    "        \n",
    "        # 과정 4-5\n",
    "        return answer"
   ]
  },
  {
   "cell_type": "code",
   "execution_count": 180,
   "metadata": {},
   "outputs": [
    {
     "name": "stdout",
     "output_type": "stream",
     "text": [
      "() ))((()\n",
      "))(( ()\n",
      "() \n"
     ]
    },
    {
     "data": {
      "text/plain": [
       "'()(())()'"
      ]
     },
     "execution_count": 180,
     "metadata": {},
     "output_type": "execute_result"
    }
   ],
   "source": [
    "solution(\"()))((()\")"
   ]
  },
  {
   "cell_type": "code",
   "execution_count": null,
   "metadata": {},
   "outputs": [],
   "source": []
  }
 ],
 "metadata": {
  "kernelspec": {
   "display_name": "Python 3",
   "language": "python",
   "name": "python3"
  },
  "language_info": {
   "codemirror_mode": {
    "name": "ipython",
    "version": 3
   },
   "file_extension": ".py",
   "mimetype": "text/x-python",
   "name": "python",
   "nbconvert_exporter": "python",
   "pygments_lexer": "ipython3",
   "version": "3.6.8"
  }
 },
 "nbformat": 4,
 "nbformat_minor": 4
}
