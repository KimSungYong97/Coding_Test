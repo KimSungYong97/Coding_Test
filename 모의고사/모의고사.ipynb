{
 "cells": [
  {
   "cell_type": "code",
   "execution_count": 1,
   "metadata": {},
   "outputs": [],
   "source": [
    "def solution(answers):\n",
    "    patern1=[1, 2, 3, 4, 5]\n",
    "    patern2=[2, 1, 2, 3, 2, 4, 2, 5]\n",
    "    patern3=[3, 3, 1, 1, 2, 2, 4, 4, 5, 5]\n",
    "    answer=[0,0,0]\n",
    "    \n",
    "    for i in range(len(answers)):\n",
    "        if(patern1[i%len(patern1)]==answers[i]):\n",
    "            answer[0]+=1\n",
    "        if(patern2[i%len(patern2)]==answers[i]):\n",
    "            answer[1]+=1\n",
    "        if(patern3[i%len(patern3)]==answers[i]):\n",
    "            answer[2]+=1\n",
    "            \n",
    "    answer=[i+1 for i in range(len(answer)) if answer[i] == max(answer)]\n",
    "    return (sorted(answer))"
   ]
  },
  {
   "cell_type": "code",
   "execution_count": 2,
   "metadata": {},
   "outputs": [
    {
     "data": {
      "text/plain": [
       "[1, 2, 3]"
      ]
     },
     "execution_count": 2,
     "metadata": {},
     "output_type": "execute_result"
    }
   ],
   "source": [
    "solution([1,3,2,4,2])"
   ]
  },
  {
   "cell_type": "code",
   "execution_count": null,
   "metadata": {},
   "outputs": [],
   "source": []
  }
 ],
 "metadata": {
  "kernelspec": {
   "display_name": "Python 3",
   "language": "python",
   "name": "python3"
  },
  "language_info": {
   "codemirror_mode": {
    "name": "ipython",
    "version": 3
   },
   "file_extension": ".py",
   "mimetype": "text/x-python",
   "name": "python",
   "nbconvert_exporter": "python",
   "pygments_lexer": "ipython3",
   "version": "3.6.8"
  }
 },
 "nbformat": 4,
 "nbformat_minor": 4
}
