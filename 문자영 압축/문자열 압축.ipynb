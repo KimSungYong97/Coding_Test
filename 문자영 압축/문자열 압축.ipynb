{
 "cells": [
  {
   "cell_type": "code",
   "execution_count": 1,
   "metadata": {},
   "outputs": [],
   "source": [
    "def solution(s):\n",
    "    s=''.join(s)\n",
    "    string_len_arr=[]\n",
    "    if(len(s)==1):\n",
    "        return 1\n",
    "    for k in range(1,len(s)//2+1):\n",
    "        string_len=(len(s))%k\n",
    "        cnt=1\n",
    "        string=''\n",
    "        for i in range(0,((len(s)//k)*k),k):\n",
    "            cmpstr=string\n",
    "            string=''\n",
    "            for l in range(k):\n",
    "                string+=s[i+l]\n",
    "            if(cmpstr==string):\n",
    "                cnt+=1\n",
    "            else:\n",
    "                string_len+= len(str(cnt)) if cnt>1 else 0\n",
    "                string_len+=k\n",
    "                cnt=1\n",
    "        string_len+= len(str(cnt)) if cnt>1 else 0\n",
    "        string_len_arr.append(string_len)\n",
    "    return min(string_len_arr)"
   ]
  },
  {
   "cell_type": "code",
   "execution_count": 2,
   "metadata": {},
   "outputs": [
    {
     "data": {
      "text/plain": [
       "14"
      ]
     },
     "execution_count": 2,
     "metadata": {},
     "output_type": "execute_result"
    }
   ],
   "source": [
    "solution('abcabcabcabcdededededede')"
   ]
  },
  {
   "cell_type": "code",
   "execution_count": null,
   "metadata": {},
   "outputs": [],
   "source": []
  }
 ],
 "metadata": {
  "kernelspec": {
   "display_name": "Python 3",
   "language": "python",
   "name": "python3"
  },
  "language_info": {
   "codemirror_mode": {
    "name": "ipython",
    "version": 3
   },
   "file_extension": ".py",
   "mimetype": "text/x-python",
   "name": "python",
   "nbconvert_exporter": "python",
   "pygments_lexer": "ipython3",
   "version": "3.6.8"
  }
 },
 "nbformat": 4,
 "nbformat_minor": 4
}
