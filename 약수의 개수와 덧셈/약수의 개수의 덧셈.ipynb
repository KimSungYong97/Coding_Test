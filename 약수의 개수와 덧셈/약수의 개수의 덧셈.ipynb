{
 "cells": [
  {
   "cell_type": "code",
   "execution_count": 1,
   "metadata": {},
   "outputs": [],
   "source": [
    "def cal_divisor(number):\n",
    "    if(number==1):\n",
    "        return 1\n",
    "    divisor=0\n",
    "    for i in range(2,number//2+1): #1~number//2+1 까지 약수면 divisor+1\n",
    "        if(number%i==0):\n",
    "            divisor+=1\n",
    "    return divisor+2 # 1 과 자기 자신까지 포함시켜 리턴\n",
    "def solution(left, right):\n",
    "    divisor=[cal_divisor(i) for i in range(left,right+1)] # left와 right 사의 숫자들의 약수 갯수\n",
    "    answer=[i if divisor[i-left] % 2 ==0 else -i for i in range(left,right+1) ] #약수 갯수가 짝수면 + 홀수면 -\n",
    "    return sum(answer)"
   ]
  },
  {
   "cell_type": "code",
   "execution_count": 2,
   "metadata": {},
   "outputs": [
    {
     "data": {
      "text/plain": [
       "52"
      ]
     },
     "execution_count": 2,
     "metadata": {},
     "output_type": "execute_result"
    }
   ],
   "source": [
    "solution(24,27)"
   ]
  },
  {
   "cell_type": "code",
   "execution_count": null,
   "metadata": {},
   "outputs": [],
   "source": []
  }
 ],
 "metadata": {
  "kernelspec": {
   "display_name": "Python 3",
   "language": "python",
   "name": "python3"
  },
  "language_info": {
   "codemirror_mode": {
    "name": "ipython",
    "version": 3
   },
   "file_extension": ".py",
   "mimetype": "text/x-python",
   "name": "python",
   "nbconvert_exporter": "python",
   "pygments_lexer": "ipython3",
   "version": "3.6.8"
  }
 },
 "nbformat": 4,
 "nbformat_minor": 4
}
