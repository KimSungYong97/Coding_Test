{
 "cells": [
  {
   "cell_type": "code",
   "execution_count": 156,
   "metadata": {},
   "outputs": [],
   "source": [
    "def solution(m, n, board):\n",
    "    board=[[board[i][j] for i in range(m-1,-1,-1)]for j in range(n-1,-1,-1)]    #편리한 list작업을 위해 변환\n",
    "    remove=[[0 for i in range(m)]for j in range(n)]    # 조건이 충족되어 사라져야 하는 좌표를 저장할 판\n",
    "    answer = 0\n",
    "    while(1):\n",
    "        for i in range(n-1):\n",
    "            for j in range(m-1):\n",
    "                if(board[i][j]==board[i][j+1] and board[i][j]==board[i+1][j] and board[i][j]==board[i+1][j+1] and board[i][j]!=0):\n",
    "                    #0~n-1, 0~m-1 을 돌명서 오른쪽 아래, 아래오른대각이 같은 숫자면 4 좌표 모두 remove 배열에 체크\n",
    "                    remove[i][j]=1\n",
    "                    remove[i+1][j]=1\n",
    "                    remove[i][j+1]=1\n",
    "                    remove[i+1][j+1]=1\n",
    "        score=sum([sum(remove[i])for i in range(n)]) # 체크된 좌표의 갯수\n",
    "        if(score==0): # 체크된 좌표강 벗으면 더이상 게임 진행이 안되므로 break\n",
    "            break\n",
    "        answer+=score \n",
    "        for i in range(n): # 체크된 좌표를 빼주고 그 숫자만큼 뒤에 0 append\n",
    "            while(any(remove[i])):\n",
    "                board[i].pop(remove[i].index(1))\n",
    "                board[i].append(0)\n",
    "                remove[i].pop(remove[i].index(1))\n",
    "                remove[i].append(0)\n",
    "    return answer"
   ]
  },
  {
   "cell_type": "code",
   "execution_count": 157,
   "metadata": {},
   "outputs": [
    {
     "data": {
      "text/plain": [
       "14"
      ]
     },
     "execution_count": 157,
     "metadata": {},
     "output_type": "execute_result"
    }
   ],
   "source": [
    "solution(4,5,[\"CCBDE\", \"AAADE\", \"AAABF\", \"CCBBF\"])"
   ]
  },
  {
   "cell_type": "code",
   "execution_count": null,
   "metadata": {},
   "outputs": [],
   "source": []
  }
 ],
 "metadata": {
  "kernelspec": {
   "display_name": "Python 3",
   "language": "python",
   "name": "python3"
  },
  "language_info": {
   "codemirror_mode": {
    "name": "ipython",
    "version": 3
   },
   "file_extension": ".py",
   "mimetype": "text/x-python",
   "name": "python",
   "nbconvert_exporter": "python",
   "pygments_lexer": "ipython3",
   "version": "3.6.8"
  }
 },
 "nbformat": 4,
 "nbformat_minor": 4
}
