{
 "cells": [
  {
   "cell_type": "code",
   "execution_count": 167,
   "metadata": {},
   "outputs": [],
   "source": [
    "def solution(n, edge):\n",
    "    \n",
    "    visited=[-1 for i in range(n)] # 각 노드별로 1까지의 거리가 담긴 리스트\n",
    "    visited[0]=0\n",
    "    Q=[1]\n",
    "    \n",
    "    linked_node_list=[[] for i in range(n)] \n",
    "    for i in edge:  \n",
    "        linked_node_list[i[0]-1].append(i[1])\n",
    "        linked_node_list[i[1]-1].append(i[0])# 각 노드별로 연결된 노드정보 저장\n",
    "        \n",
    "    while Q: #BPS\n",
    "        node=Q.pop(0)\n",
    "        for linked_node in linked_node_list[node-1]:\n",
    "            if(visited[linked_node-1] ==-1):\n",
    "                Q.append(linked_node)\n",
    "                visited[linked_node-1]=visited[node-1]+1\n",
    "                \n",
    "    return visited.count(max(visited))"
   ]
  },
  {
   "cell_type": "code",
   "execution_count": 168,
   "metadata": {},
   "outputs": [
    {
     "name": "stdout",
     "output_type": "stream",
     "text": [
      "3 3\n",
      "4 4\n",
      "1 1\n",
      "1 1\n",
      "2 2\n",
      "1 1\n",
      "3 3\n",
      "1 1\n",
      "2 2\n",
      "1 1\n"
     ]
    }
   ],
   "source": [
    "print(solution(6, [[3, 6], [4, 3], [3, 2], [1, 3], [1, 2], [2, 4], [5, 2]]), 3)\n",
    "print(solution(11, [[1, 2], [1, 3], [2, 4], [2, 5], [3, 5], [\n",
    "      3, 6], [4, 8], [4, 9], [5, 9], [5, 10], [6, 10], [6, 11]]), 4)\n",
    "print(solution(4, [[1, 2], [2, 3], [3, 4]]), 1)\n",
    "print(solution(2, [[1, 2]]), 1)\n",
    "print(solution(5, [[4, 3], [3, 2], [1, 3], [1, 2], [2, 4], [5, 2]]), 2)\n",
    "print(solution(4, [[1, 2], [1, 3], [2, 3], [2, 4], [3, 4]]), 1)\n",
    "print(solution(4, [[1, 4], [1, 3], [2, 3], [2, 1]]), 3)\n",
    "print(solution(4, [[3, 4], [1, 3], [2, 3], [2, 1]]), 1)\n",
    "print(solution(4, [[4, 3], [1, 3], [2, 3]]),2)\n",
    "print(solution(5, [[4, 3], [5, 3], [2, 3]]), 1)"
   ]
  },
  {
   "cell_type": "code",
   "execution_count": null,
   "metadata": {},
   "outputs": [],
   "source": []
  }
 ],
 "metadata": {
  "kernelspec": {
   "display_name": "Python 3",
   "language": "python",
   "name": "python3"
  },
  "language_info": {
   "codemirror_mode": {
    "name": "ipython",
    "version": 3
   },
   "file_extension": ".py",
   "mimetype": "text/x-python",
   "name": "python",
   "nbconvert_exporter": "python",
   "pygments_lexer": "ipython3",
   "version": "3.6.8"
  }
 },
 "nbformat": 4,
 "nbformat_minor": 4
}
