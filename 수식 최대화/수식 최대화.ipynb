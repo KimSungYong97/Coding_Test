{
 "cells": [
  {
   "cell_type": "code",
   "execution_count": 1,
   "metadata": {},
   "outputs": [],
   "source": [
    "import re\n",
    "def solution(expression):\n",
    "    operations=['*+-','*-+','+*-','+-*','-*+','-+*'] #우선순위의 모든 경우의수\n",
    "    \n",
    "    answer=0\n",
    "    for operation in operations:\n",
    "        exp=expression\n",
    "        \n",
    "        numbers=re.split(\"[*+-]\",exp) # 수식 속 모든 숫자 발췌\n",
    "        ops=[i for i in exp if not i.isdigit()] #수식 속 모든 연산 기호 발췌\n",
    "        \n",
    "        for op in operation:\n",
    "            while(op in ops):\n",
    "                idx=ops.index(op)\n",
    "                #연산 기호에 따른 계산\n",
    "                if(op =='*'):\n",
    "                    number=int(numbers[idx])*int(numbers[idx+1])\n",
    "                elif(op =='+'):\n",
    "                    number=int(numbers[idx])+int(numbers[idx+1])\n",
    "                elif(op =='-'):\n",
    "                    number=int(numbers[idx])-int(numbers[idx+1])\n",
    "                    \n",
    "                numbers.pop(idx+1)\n",
    "                numbers.pop(idx)\n",
    "                ops.pop(idx) #계산에 필요한 모든 요소들을 뺴주고\n",
    "                numbers.insert(idx,number) #계산값을 다시 넣어줌\n",
    "        answer=max(answer,abs(number)) #모든 우선순위에서 가장 큰 값 \n",
    "    return answer"
   ]
  },
  {
   "cell_type": "code",
   "execution_count": 2,
   "metadata": {},
   "outputs": [
    {
     "data": {
      "text/plain": [
       "60420"
      ]
     },
     "execution_count": 2,
     "metadata": {},
     "output_type": "execute_result"
    }
   ],
   "source": [
    "solution(\"100-200*300-500+20\")"
   ]
  },
  {
   "cell_type": "code",
   "execution_count": null,
   "metadata": {},
   "outputs": [],
   "source": []
  }
 ],
 "metadata": {
  "kernelspec": {
   "display_name": "Python 3",
   "language": "python",
   "name": "python3"
  },
  "language_info": {
   "codemirror_mode": {
    "name": "ipython",
    "version": 3
   },
   "file_extension": ".py",
   "mimetype": "text/x-python",
   "name": "python",
   "nbconvert_exporter": "python",
   "pygments_lexer": "ipython3",
   "version": "3.6.8"
  }
 },
 "nbformat": 4,
 "nbformat_minor": 4
}
