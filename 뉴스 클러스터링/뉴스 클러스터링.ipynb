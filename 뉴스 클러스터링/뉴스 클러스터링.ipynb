{
 "cells": [
  {
   "cell_type": "code",
   "execution_count": 278,
   "metadata": {},
   "outputs": [],
   "source": [
    "def Jacquard(str1,str2):\n",
    "    str1_cpy= str1.copy()\n",
    "    str2_cpy= str2.copy() #문자열 복사\n",
    "    \n",
    "    #합집합\n",
    "    union=[str1_cpy.pop(str1_cpy.index(i)) if i in str1_cpy else i for i in str2_cpy]+str1_cpy\n",
    "    \n",
    "    \n",
    "    if(union):\n",
    "        #교집합\n",
    "        intersection=[str2.pop(str2.index(i))for i in str1 if i in str2]\n",
    "        \n",
    "        return len(intersection)/len(union)\n",
    "    else:\n",
    "        return 1\n",
    "    \n",
    "def solution(str1, str2):\n",
    "    str1 = [(str1[i]+str1[i+1]).upper() for i in range(len(str1)-1) if(str1[i].isalpha() and str1[i+1].isalpha())]\n",
    "    str2= [(str2[i]+str2[i+1]).upper() for i in range(len(str2)-1) if(str2[i].isalpha() and str2[i+1].isalpha())]\n",
    "    #다중집합 만들기\n",
    "    #소문자는 대문자로, 알파벳만 포함하도록\n",
    "    \n",
    "    return int(Jacquard(str1,str2)*65536)"
   ]
  },
  {
   "cell_type": "code",
   "execution_count": 279,
   "metadata": {},
   "outputs": [
    {
     "data": {
      "text/plain": [
       "65536"
      ]
     },
     "execution_count": 279,
     "metadata": {},
     "output_type": "execute_result"
    }
   ],
   "source": [
    "solution('handshake','shake hands')"
   ]
  },
  {
   "cell_type": "code",
   "execution_count": null,
   "metadata": {},
   "outputs": [],
   "source": []
  }
 ],
 "metadata": {
  "kernelspec": {
   "display_name": "Python 3",
   "language": "python",
   "name": "python3"
  },
  "language_info": {
   "codemirror_mode": {
    "name": "ipython",
    "version": 3
   },
   "file_extension": ".py",
   "mimetype": "text/x-python",
   "name": "python",
   "nbconvert_exporter": "python",
   "pygments_lexer": "ipython3",
   "version": "3.6.8"
  }
 },
 "nbformat": 4,
 "nbformat_minor": 4
}
