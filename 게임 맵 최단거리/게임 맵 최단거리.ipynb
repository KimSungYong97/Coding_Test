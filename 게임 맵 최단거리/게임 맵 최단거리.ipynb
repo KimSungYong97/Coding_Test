{
 "cells": [
  {
   "cell_type": "code",
   "execution_count": 6,
   "metadata": {},
   "outputs": [],
   "source": [
    "def solution(maps):\n",
    "    Q = [(0, 0)]\n",
    "    dx, dy = [0, 1, 0, -1], [-1, 0, 1, 0] # 이동할 방향\n",
    "    N, M = len(maps), len(maps[0]) #행과 열의 길이\n",
    "    visited = [[0 for m in range(M)] for n in range(N)] # 각 좌표별로 최단거리가 저장되는 배열\n",
    "    maps[0][0] = 0\n",
    "    visited[0][0] = 1 #처음 시작점\n",
    "    \n",
    "    #최단거리 -> BPS\n",
    "    while Q:\n",
    "        x, y = Q.pop(0)\n",
    "        if x == N-1 and y == M-1:\n",
    "            return visited[x][y] #끝지점 도착\n",
    "        for i in range(4):\n",
    "            if 0 <= x+dx[i] < N and 0 <= y+dy[i] < M and maps[x+dx[i]][y+dy[i]] == 1:#이동 가능한 좌표일 때\n",
    "                visited[x + dx[i]][y + dy[i]] = visited[x][y]+1\n",
    "                #이동한 좌표의 최단거리는 이전 좌표의 최단거리에서 +1\n",
    "                \n",
    "                Q.append((x+dx[i], y+dy[i])) # 지나온 곳의 좌표를 Q에 append\n",
    "                maps[x + dx[i]][y + dy[i]] = 0 # 이미 지나왔다는 것으로 표시\n",
    "    return -1 #도착 못할 시 -1 리턴"
   ]
  },
  {
   "cell_type": "code",
   "execution_count": 7,
   "metadata": {
    "scrolled": false
   },
   "outputs": [
    {
     "data": {
      "text/plain": [
       "-1"
      ]
     },
     "execution_count": 7,
     "metadata": {},
     "output_type": "execute_result"
    }
   ],
   "source": [
    "solution([[1, 0, 1, 1, 1], \n",
    "          [1, 0, 1, 0, 1], \n",
    "          [1, 0, 1, 1, 1], \n",
    "          [1, 1, 1, 0, 0], \n",
    "          [0, 0, 0, 0, 1]])"
   ]
  },
  {
   "cell_type": "code",
   "execution_count": null,
   "metadata": {},
   "outputs": [],
   "source": []
  },
  {
   "cell_type": "code",
   "execution_count": null,
   "metadata": {},
   "outputs": [],
   "source": []
  }
 ],
 "metadata": {
  "kernelspec": {
   "display_name": "Python 3",
   "language": "python",
   "name": "python3"
  },
  "language_info": {
   "codemirror_mode": {
    "name": "ipython",
    "version": 3
   },
   "file_extension": ".py",
   "mimetype": "text/x-python",
   "name": "python",
   "nbconvert_exporter": "python",
   "pygments_lexer": "ipython3",
   "version": "3.6.8"
  }
 },
 "nbformat": 4,
 "nbformat_minor": 4
}
