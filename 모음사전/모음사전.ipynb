{
 "cells": [
  {
   "cell_type": "code",
   "execution_count": 1,
   "metadata": {},
   "outputs": [],
   "source": [
    "def solution(word):\n",
    "    answer=1\n",
    "    s='A'\n",
    "    d=['A','E','I','O','U','Z']\n",
    "    while(1):\n",
    "        if s==word:\n",
    "            return answer\n",
    "        else:\n",
    "            answer+=1\n",
    "            if(len(s)<5):\n",
    "                s+='A'\n",
    "            else:\n",
    "                s=s[:-1]+d[d.index(s[-1])+1]\n",
    "            while(s[-1]=='Z'):\n",
    "                s=s[:-2]+d[d.index(s[-2])+1]"
   ]
  },
  {
   "cell_type": "code",
   "execution_count": 2,
   "metadata": {},
   "outputs": [],
   "source": [
    "def solution(word):\n",
    "    answer=0\n",
    "    d={'A':1,'E':2,'I':3,'O':4,'U':5}\n",
    "    for i in range (len(word)):\n",
    "        if(word[i]=='A'):\n",
    "            answer+=1\n",
    "        else:\n",
    "            for j in range(1,5-i):\n",
    "                answer+=5**j*(d[word[i]]-1)\n",
    "            answer+=d[word[i]]\n",
    "    return answer"
   ]
  },
  {
   "cell_type": "code",
   "execution_count": 3,
   "metadata": {},
   "outputs": [
    {
     "data": {
      "text/plain": [
       "1189"
      ]
     },
     "execution_count": 3,
     "metadata": {},
     "output_type": "execute_result"
    }
   ],
   "source": [
    "solution(\"EIO\")"
   ]
  },
  {
   "cell_type": "code",
   "execution_count": null,
   "metadata": {},
   "outputs": [],
   "source": []
  }
 ],
 "metadata": {
  "kernelspec": {
   "display_name": "Python 3",
   "language": "python",
   "name": "python3"
  },
  "language_info": {
   "codemirror_mode": {
    "name": "ipython",
    "version": 3
   },
   "file_extension": ".py",
   "mimetype": "text/x-python",
   "name": "python",
   "nbconvert_exporter": "python",
   "pygments_lexer": "ipython3",
   "version": "3.6.8"
  }
 },
 "nbformat": 4,
 "nbformat_minor": 4
}
