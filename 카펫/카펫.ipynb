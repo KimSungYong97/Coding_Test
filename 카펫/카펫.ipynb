{
 "cells": [
  {
   "cell_type": "code",
   "execution_count": 25,
   "metadata": {},
   "outputs": [],
   "source": [
    "def find_measure(number):\n",
    "    if(number==1):\n",
    "        return [[1,1]]\n",
    "    measure=[[number//i,i] for i in range(1,number//2+1) if number%i ==0]\n",
    "    return measure\n",
    "\n",
    "def solution(brown, yellow):\n",
    "    yellow_measure=find_measure(yellow)\n",
    "    for i in yellow_measure:\n",
    "        if(brown==2*sum(i)+4):\n",
    "            return [i[0]+2,i[1]+2]"
   ]
  },
  {
   "cell_type": "code",
   "execution_count": 26,
   "metadata": {},
   "outputs": [
    {
     "data": {
      "text/plain": [
       "[4, 3]"
      ]
     },
     "execution_count": 26,
     "metadata": {},
     "output_type": "execute_result"
    }
   ],
   "source": [
    "solution(10,2)"
   ]
  },
  {
   "cell_type": "code",
   "execution_count": null,
   "metadata": {},
   "outputs": [],
   "source": []
  }
 ],
 "metadata": {
  "kernelspec": {
   "display_name": "Python 3",
   "language": "python",
   "name": "python3"
  },
  "language_info": {
   "codemirror_mode": {
    "name": "ipython",
    "version": 3
   },
   "file_extension": ".py",
   "mimetype": "text/x-python",
   "name": "python",
   "nbconvert_exporter": "python",
   "pygments_lexer": "ipython3",
   "version": "3.6.8"
  }
 },
 "nbformat": 4,
 "nbformat_minor": 4
}
