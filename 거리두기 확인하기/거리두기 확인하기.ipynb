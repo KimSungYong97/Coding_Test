{
 "cells": [
  {
   "cell_type": "code",
   "execution_count": 1,
   "metadata": {},
   "outputs": [],
   "source": [
    "def check(place):\n",
    "    p_loc=[[i,j] for i in range(5) for j in range(5) if(place[i][j]=='P')] #대기열에 존재하는 사람의 좌표\n",
    "    for i in p_loc:\n",
    "        for j in p_loc:\n",
    "            if(i!=j):\n",
    "                if(abs(i[0]-j[0])+abs(i[1]-j[1])<=2): # 맨해튼 거리가 2 이하일때 \n",
    "                    if(i[0]==j[0] or i[1]==j[1]):   #만약 x나 y중 같은 좌표가 있을 때 -> 동일 선상에 있을 때 \n",
    "                                                    #(ex)[1,1],[1,2]   [1,1],[1,3]  \n",
    "                        if(place[(i[0]+j[0])//2][(i[1]+j[1])//2]!='X'):  #사람과 사람 사이에 가림막이 없을 시 0 리턴\n",
    "                            return 0\n",
    "                        \n",
    "                    else:                    #x와y 가 둘다 다를때 -> 대각선에 있을 때 \n",
    "                                            #(ex)[1,1] and [2,2]\n",
    "                        if(place[i[0]][j[1]]=='O' or place[j[0]][i[1]]=='O'): #대각 양쪽중 하나라도 뚫려있다면 0 리턴\n",
    "                            return 0\n",
    "    return 1     #모든 경우에서 거리두기가 위반되지 않은 경우 1 리턴\n",
    "def solution(places):\n",
    "    return [check(place) for place in places] # 모든 대기방에 따른 확인 결과"
   ]
  },
  {
   "cell_type": "code",
   "execution_count": 3,
   "metadata": {},
   "outputs": [
    {
     "data": {
      "text/plain": [
       "[1, 0, 1, 1, 1]"
      ]
     },
     "execution_count": 3,
     "metadata": {},
     "output_type": "execute_result"
    }
   ],
   "source": [
    "solution([[\"POOOP\", \"OXXOX\", \"OPXPX\", \"OOXOX\", \"POXXP\"], \n",
    "          [\"POOPX\", \"OXPXP\", \"PXXXO\", \"OXXXO\", \"OOOPP\"], \n",
    "          [\"PXOPX\", \"OXOXP\", \"OXPOX\", \"OXXOP\", \"PXPOX\"], \n",
    "          [\"OOOXX\", \"XOOOX\", \"OOOXX\", \"OXOOX\", \"OOOOO\"], \n",
    "          [\"PXPXP\", \"XPXPX\", \"PXPXP\", \"XPXPX\", \"PXPXP\"]])"
   ]
  },
  {
   "cell_type": "code",
   "execution_count": null,
   "metadata": {},
   "outputs": [],
   "source": []
  }
 ],
 "metadata": {
  "kernelspec": {
   "display_name": "Python 3",
   "language": "python",
   "name": "python3"
  },
  "language_info": {
   "codemirror_mode": {
    "name": "ipython",
    "version": 3
   },
   "file_extension": ".py",
   "mimetype": "text/x-python",
   "name": "python",
   "nbconvert_exporter": "python",
   "pygments_lexer": "ipython3",
   "version": "3.6.8"
  }
 },
 "nbformat": 4,
 "nbformat_minor": 4
}
