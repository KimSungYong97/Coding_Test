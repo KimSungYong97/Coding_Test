{
 "cells": [
  {
   "cell_type": "code",
   "execution_count": 3,
   "metadata": {},
   "outputs": [],
   "source": [
    "def solution(begin, target, words):\n",
    "    if(target not in words):\n",
    "        return 0\n",
    "    visited=[0 for i in range(len(words))]\n",
    "    queue =[begin]\n",
    "    \n",
    "    while queue:\n",
    "        word=queue.pop()\n",
    "        for w in words:\n",
    "            if(sum([1 for i in range(len(word)) if(word[i]==w[i])])==len(word)-1):\n",
    "                queue.append(w)\n",
    "                if(word != begin):\n",
    "                    visited[words.index(w)]=visited[words.index(word)]+1\n",
    "                else:\n",
    "                    visited[words.index(w)]+=1\n",
    "                if(w==target):\n",
    "                    return max(visited)\n",
    "    return min(visited)"
   ]
  },
  {
   "cell_type": "code",
   "execution_count": 4,
   "metadata": {},
   "outputs": [
    {
     "data": {
      "text/plain": [
       "4"
      ]
     },
     "execution_count": 4,
     "metadata": {},
     "output_type": "execute_result"
    }
   ],
   "source": [
    "solution(\"hit\",\"cog\",[\"hot\", \"dot\", \"dog\", \"lot\", \"log\", \"cog\"])"
   ]
  },
  {
   "cell_type": "code",
   "execution_count": 5,
   "metadata": {},
   "outputs": [
    {
     "data": {
      "text/plain": [
       "0"
      ]
     },
     "execution_count": 5,
     "metadata": {},
     "output_type": "execute_result"
    }
   ],
   "source": [
    "solution(\"hit\",\"cog\",[\"hot\", \"dot\", \"dog\", \"lot\", \"log\"])"
   ]
  },
  {
   "cell_type": "code",
   "execution_count": null,
   "metadata": {},
   "outputs": [],
   "source": []
  }
 ],
 "metadata": {
  "kernelspec": {
   "display_name": "Python 3",
   "language": "python",
   "name": "python3"
  },
  "language_info": {
   "codemirror_mode": {
    "name": "ipython",
    "version": 3
   },
   "file_extension": ".py",
   "mimetype": "text/x-python",
   "name": "python",
   "nbconvert_exporter": "python",
   "pygments_lexer": "ipython3",
   "version": "3.6.8"
  }
 },
 "nbformat": 4,
 "nbformat_minor": 4
}
