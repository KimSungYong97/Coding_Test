{
 "cells": [
  {
   "cell_type": "code",
   "execution_count": 129,
   "metadata": {},
   "outputs": [],
   "source": [
    "from itertools import combinations\n",
    "def solution(relation):\n",
    "    row = len(relation)\n",
    "    col = len(relation[0])\n",
    "\n",
    "    #가능한 속성의 모든 인덱스 조합 \n",
    "    col_combi = []\n",
    "    for i in range(1, col+1):\n",
    "        col_combi.extend(combinations(range(col), i))\n",
    "        \n",
    "    unique = []\n",
    "    for i in col_combi:\n",
    "        tmp = [tuple([item[key] for key in i]) for item in relation]\n",
    "        if len(set(tmp)) == row:    # 유일성\n",
    "            check=1\n",
    "            for x in unique:\n",
    "                if set(x).issubset(set(i)):  # 최소성\n",
    "                    check = 0\n",
    "                    break\n",
    "                    \n",
    "            if check: \n",
    "                unique.append(i)\n",
    "   \n",
    "    return len(unique)"
   ]
  },
  {
   "cell_type": "code",
   "execution_count": 130,
   "metadata": {},
   "outputs": [
    {
     "data": {
      "text/plain": [
       "2"
      ]
     },
     "execution_count": 130,
     "metadata": {},
     "output_type": "execute_result"
    }
   ],
   "source": [
    "solution([[\"100\",\"ryan\",\"music\",\"2\"],[\"200\",\"apeach\",\"math\",\"2\"],[\"300\",\"tube\",\"computer\",\"3\"],[\"400\",\"con\",\"computer\",\"4\"],[\"500\",\"muzi\",\"music\",\"3\"],[\"600\",\"apeach\",\"music\",\"2\"]])"
   ]
  },
  {
   "cell_type": "code",
   "execution_count": null,
   "metadata": {},
   "outputs": [],
   "source": []
  }
 ],
 "metadata": {
  "kernelspec": {
   "display_name": "Python 3",
   "language": "python",
   "name": "python3"
  },
  "language_info": {
   "codemirror_mode": {
    "name": "ipython",
    "version": 3
   },
   "file_extension": ".py",
   "mimetype": "text/x-python",
   "name": "python",
   "nbconvert_exporter": "python",
   "pygments_lexer": "ipython3",
   "version": "3.6.8"
  }
 },
 "nbformat": 4,
 "nbformat_minor": 4
}
