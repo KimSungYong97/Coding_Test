{
 "cells": [
  {
   "cell_type": "code",
   "execution_count": 1,
   "metadata": {},
   "outputs": [],
   "source": [
    "def solution(name):\n",
    "    change = [min(ord(i) - ord(\"A\"), ord(\"Z\") - ord(i)+1) for i in name]\n",
    "    idx, answer = 0, 0\n",
    "\n",
    "    while True:\n",
    "        answer += change[idx]\n",
    "        change[idx] = 0\n",
    "\n",
    "        if sum(change) == 0:\n",
    "            break\n",
    "\n",
    "        left, right = 1, 1\n",
    "        while change[idx - left] == 0:\n",
    "            left += 1\n",
    "\n",
    "        while change[idx + right] == 0:\n",
    "            right += 1\n",
    "\n",
    "        answer += left if left < right else right\n",
    "        idx += -left if left < right else right\n",
    "        \n",
    "    return answer"
   ]
  },
  {
   "cell_type": "code",
   "execution_count": 2,
   "metadata": {},
   "outputs": [
    {
     "data": {
      "text/plain": [
       "56"
      ]
     },
     "execution_count": 2,
     "metadata": {},
     "output_type": "execute_result"
    }
   ],
   "source": [
    "solution(\"JEROEN\")"
   ]
  },
  {
   "cell_type": "code",
   "execution_count": null,
   "metadata": {},
   "outputs": [],
   "source": []
  }
 ],
 "metadata": {
  "kernelspec": {
   "display_name": "Python 3",
   "language": "python",
   "name": "python3"
  },
  "language_info": {
   "codemirror_mode": {
    "name": "ipython",
    "version": 3
   },
   "file_extension": ".py",
   "mimetype": "text/x-python",
   "name": "python",
   "nbconvert_exporter": "python",
   "pygments_lexer": "ipython3",
   "version": "3.6.8"
  }
 },
 "nbformat": 4,
 "nbformat_minor": 4
}
