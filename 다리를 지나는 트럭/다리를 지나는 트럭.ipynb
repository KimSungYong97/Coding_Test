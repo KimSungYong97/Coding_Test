{
 "cells": [
  {
   "cell_type": "code",
   "execution_count": 207,
   "metadata": {},
   "outputs": [],
   "source": [
    "def solution(bridge_length, weight, truck_weights):\n",
    "    len_truck_weights=len(truck_weights)\n",
    "    \n",
    "    answer=bridge_length+len_truck_weights #기본적으로 최소로 걸리는 시간\n",
    "    \n",
    "    idx=1\n",
    "    on_bridge=[truck_weights[0]] # 첫번쨰 트럭이 다리위에 올라감\n",
    "    \n",
    "    while(idx<len_truck_weights):\n",
    "        truck=truck_weights[idx]\n",
    "    \n",
    "        if(len(on_bridge)==bridge_length): #맨 앞 트럭이 다리를 다 지나면\n",
    "            if(on_bridge.pop(0)==0): \n",
    "                answer+=1  # 맨 앞 트럭이 기다린 시간만큼 추가\n",
    "                \n",
    "        if(sum(on_bridge)+truck<=weight): #트럭이 다리를 지날 수 있으면\n",
    "            if(truck_weights):\n",
    "                on_bridge.append(truck) #트럭이 다리위에 올라감\n",
    "                idx+=1 #다음 트럭 대기\n",
    "        else:\n",
    "            on_bridge.append(0) #트럭이 다리를 지날 수 없으면 지날 수 있을때까지 기다림\n",
    "            \n",
    "    return answer+on_bridge.count(0)"
   ]
  },
  {
   "cell_type": "code",
   "execution_count": 208,
   "metadata": {},
   "outputs": [
    {
     "data": {
      "text/plain": [
       "19"
      ]
     },
     "execution_count": 208,
     "metadata": {},
     "output_type": "execute_result"
    }
   ],
   "source": [
    "solution(5, 5, [2, 2, 2, 2, 1, 1, 1, 1, 1])"
   ]
  },
  {
   "cell_type": "code",
   "execution_count": 209,
   "metadata": {},
   "outputs": [
    {
     "data": {
      "text/plain": [
       "8"
      ]
     },
     "execution_count": 209,
     "metadata": {},
     "output_type": "execute_result"
    }
   ],
   "source": [
    "solution(2, 10, [7, 4, 5, 6])"
   ]
  },
  {
   "cell_type": "code",
   "execution_count": null,
   "metadata": {},
   "outputs": [],
   "source": []
  }
 ],
 "metadata": {
  "kernelspec": {
   "display_name": "Python 3",
   "language": "python",
   "name": "python3"
  },
  "language_info": {
   "codemirror_mode": {
    "name": "ipython",
    "version": 3
   },
   "file_extension": ".py",
   "mimetype": "text/x-python",
   "name": "python",
   "nbconvert_exporter": "python",
   "pygments_lexer": "ipython3",
   "version": "3.6.8"
  }
 },
 "nbformat": 4,
 "nbformat_minor": 4
}
