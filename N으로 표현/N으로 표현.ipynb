{
 "cells": [
  {
   "cell_type": "code",
   "execution_count": 1,
   "metadata": {},
   "outputs": [],
   "source": [
    "def solution(N, number):\n",
    "    arr=[[[int(str(N)*x)]] for x in range(1,9)] # NNNN 같은 경우 추가\n",
    "    for i in range(0,8):  #8번의 연산 안에 완성되야함\n",
    "        for j in range(i):\n",
    "            arr[i].append(case(arr[j],arr[i-j-1]))   # 가능한 모든 계산의 경우를 append\n",
    "        for j in arr[i]:\n",
    "            if(number in j):  # 만들수 있는 숫자중에 number가 있으면 리턴\n",
    "                return i+1\n",
    "    return -1  #없으면 -1 리턴\n",
    "\n",
    "def case(a,b):\n",
    "    arr=[]\n",
    "    for a1 in a:\n",
    "        for b1 in b:\n",
    "            for i in a1:\n",
    "                for j in b1:   #가능한 모든 사칙연산 append\n",
    "                    arr.append(i+j)\n",
    "                    arr.append(i-j)\n",
    "                    arr.append(j-i)\n",
    "                    arr.append(i*j)\n",
    "                    if(j != 0):\n",
    "                        arr.append(i//j)\n",
    "                    if(i != 0):\n",
    "                        arr.append(j//i)\n",
    "    return list(set(arr))"
   ]
  },
  {
   "cell_type": "code",
   "execution_count": 2,
   "metadata": {},
   "outputs": [
    {
     "data": {
      "text/plain": [
       "4"
      ]
     },
     "execution_count": 2,
     "metadata": {},
     "output_type": "execute_result"
    }
   ],
   "source": [
    "solution(5,12)"
   ]
  },
  {
   "cell_type": "code",
   "execution_count": null,
   "metadata": {},
   "outputs": [],
   "source": []
  }
 ],
 "metadata": {
  "kernelspec": {
   "display_name": "Python 3",
   "language": "python",
   "name": "python3"
  },
  "language_info": {
   "codemirror_mode": {
    "name": "ipython",
    "version": 3
   },
   "file_extension": ".py",
   "mimetype": "text/x-python",
   "name": "python",
   "nbconvert_exporter": "python",
   "pygments_lexer": "ipython3",
   "version": "3.6.8"
  }
 },
 "nbformat": 4,
 "nbformat_minor": 4
}
