{
 "cells": [
  {
   "cell_type": "code",
   "execution_count": 35,
   "metadata": {},
   "outputs": [],
   "source": [
    "def solution(operations):\n",
    "    queue=[]\n",
    "    for operation in operations:\n",
    "        split=operation.split()\n",
    "        op=split[0]\n",
    "        number=int(split[1])\n",
    "        \n",
    "        if op=='I':\n",
    "            queue.append(number)\n",
    "        elif op=='D':\n",
    "            if(queue):\n",
    "                if number==1:\n",
    "                    queue=queue[1:]\n",
    "                else:\n",
    "                    queue=queue[:-1]\n",
    "        queue.sort(reverse=True)\n",
    "        print(queue)\n",
    "    if queue:\n",
    "        return [queue[0],queue[-1]]\n",
    "    else:\n",
    "        return [0,0]"
   ]
  },
  {
   "cell_type": "code",
   "execution_count": 36,
   "metadata": {},
   "outputs": [
    {
     "name": "stdout",
     "output_type": "stream",
     "text": [
      "[1]\n",
      "[2, 1]\n",
      "[3, 2, 1]\n",
      "[4, 3, 2, 1]\n",
      "[5, 4, 3, 2, 1]\n",
      "[6, 5, 4, 3, 2, 1]\n",
      "[7, 6, 5, 4, 3, 2, 1]\n",
      "[8, 7, 6, 5, 4, 3, 2, 1]\n",
      "[9, 8, 7, 6, 5, 4, 3, 2, 1]\n",
      "[10, 9, 8, 7, 6, 5, 4, 3, 2, 1]\n",
      "[9, 8, 7, 6, 5, 4, 3, 2, 1]\n",
      "[9, 8, 7, 6, 5, 4, 3, 2]\n",
      "[8, 7, 6, 5, 4, 3, 2]\n",
      "[8, 7, 6, 5, 4, 3]\n",
      "[8, 7, 6, 5, 4, 3, 1]\n",
      "[8, 7, 6, 5, 4, 3, 2, 1]\n",
      "[8, 7, 6, 5, 4, 3, 3, 2, 1]\n",
      "[8, 7, 6, 5, 4, 4, 3, 3, 2, 1]\n",
      "[8, 7, 6, 5, 5, 4, 4, 3, 3, 2, 1]\n",
      "[8, 7, 6, 6, 5, 5, 4, 4, 3, 3, 2, 1]\n",
      "[8, 7, 7, 6, 6, 5, 5, 4, 4, 3, 3, 2, 1]\n",
      "[8, 8, 7, 7, 6, 6, 5, 5, 4, 4, 3, 3, 2, 1]\n",
      "[9, 8, 8, 7, 7, 6, 6, 5, 5, 4, 4, 3, 3, 2, 1]\n",
      "[10, 9, 8, 8, 7, 7, 6, 6, 5, 5, 4, 4, 3, 3, 2, 1]\n",
      "[9, 8, 8, 7, 7, 6, 6, 5, 5, 4, 4, 3, 3, 2, 1]\n",
      "[9, 8, 8, 7, 7, 6, 6, 5, 5, 4, 4, 3, 3, 2]\n",
      "[8, 8, 7, 7, 6, 6, 5, 5, 4, 4, 3, 3, 2]\n",
      "[8, 8, 7, 7, 6, 6, 5, 5, 4, 4, 3, 3]\n"
     ]
    },
    {
     "data": {
      "text/plain": [
       "[8, 3]"
      ]
     },
     "execution_count": 36,
     "metadata": {},
     "output_type": "execute_result"
    }
   ],
   "source": [
    "solution([\"I 1\", \"I 2\", \"I 3\", \"I 4\", \"I 5\", \"I 6\", \"I 7\", \"I 8\", \"I 9\", \"I 10\", \"D 1\", \"D -1\", \"D 1\", \"D -1\", \"I 1\", \"I 2\", \"I 3\", \"I 4\", \"I 5\", \"I 6\", \"I 7\", \"I 8\", \"I 9\", \"I 10\", \"D 1\", \"D -1\", \"D 1\", \"D -1\"])"
   ]
  },
  {
   "cell_type": "code",
   "execution_count": null,
   "metadata": {},
   "outputs": [],
   "source": []
  }
 ],
 "metadata": {
  "kernelspec": {
   "display_name": "Python 3",
   "language": "python",
   "name": "python3"
  },
  "language_info": {
   "codemirror_mode": {
    "name": "ipython",
    "version": 3
   },
   "file_extension": ".py",
   "mimetype": "text/x-python",
   "name": "python",
   "nbconvert_exporter": "python",
   "pygments_lexer": "ipython3",
   "version": "3.6.8"
  }
 },
 "nbformat": 4,
 "nbformat_minor": 4
}
