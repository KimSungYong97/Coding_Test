{
 "cells": [
  {
   "cell_type": "code",
   "execution_count": 9,
   "metadata": {},
   "outputs": [],
   "source": [
    "import operator\n",
    "def solution(genres, plays):\n",
    "    play_idx_dict={i:play for i,play in enumerate(plays)}\n",
    "    genre_idx_dict={i:genre for i,genre in enumerate(genres)}\n",
    "    \n",
    "    genre_dict_list=dict()\n",
    "    \n",
    "    for i in range(len(plays)):\n",
    "        if(genres[i] not in genre_dict_list.keys()):\n",
    "            genre_dict_list[genres[i]]=[[plays[i],i]]\n",
    "        else:\n",
    "            genre_dict_list[genres[i]].append([plays[i]-0.01*i,i])\n",
    "            \n",
    "    for genre in genre_dict_list:\n",
    "        genre_dict_list[genre]=sorted(genre_dict_list[genre],reverse=True)\n",
    "        \n",
    "    genre_play={g:0 for g in list(set(genres))}\n",
    "    \n",
    "    for i in range(len(plays)):\n",
    "        genre_play[genre_idx_dict[i]]+=play_idx_dict[i]\n",
    "        \n",
    "    genre_play=sorted(genre_play.items(), key=operator.itemgetter(1),reverse=True)\n",
    "    \n",
    "    answer = []\n",
    "    \n",
    "    for i in genre_play:\n",
    "        if(len(genre_dict_list[i[0]])>1):\n",
    "            for j in range(2):\n",
    "                answer.append(genre_dict_list[i[0]][j][1])\n",
    "        else:\n",
    "            answer.append(genre_dict_list[i[0]][0][1])\n",
    "    return answer"
   ]
  },
  {
   "cell_type": "code",
   "execution_count": 10,
   "metadata": {},
   "outputs": [
    {
     "data": {
      "text/plain": [
       "[0, 2, 1]"
      ]
     },
     "execution_count": 10,
     "metadata": {},
     "output_type": "execute_result"
    }
   ],
   "source": [
    "solution([\"classic\", \"pop\", \"classic\", \"classic\", \"classic\"], [500, 1000, 400, 300, 200])"
   ]
  },
  {
   "cell_type": "code",
   "execution_count": null,
   "metadata": {},
   "outputs": [],
   "source": []
  }
 ],
 "metadata": {
  "kernelspec": {
   "display_name": "Python 3",
   "language": "python",
   "name": "python3"
  },
  "language_info": {
   "codemirror_mode": {
    "name": "ipython",
    "version": 3
   },
   "file_extension": ".py",
   "mimetype": "text/x-python",
   "name": "python",
   "nbconvert_exporter": "python",
   "pygments_lexer": "ipython3",
   "version": "3.6.8"
  }
 },
 "nbformat": 4,
 "nbformat_minor": 4
}
