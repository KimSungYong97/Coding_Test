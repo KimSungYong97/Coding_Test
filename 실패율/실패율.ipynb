{
 "cells": [
  {
   "cell_type": "code",
   "execution_count": 101,
   "metadata": {},
   "outputs": [],
   "source": [
    "def solution(N, stages):\n",
    "    tried=[len([stage for stage in stages if stage>=n]) for n in range(1,N+1)] # 단께별 시도 횟수 \n",
    "    failed=[len([stage for stage in stages if stage==n]) for n in range(1,N+1)] # 단계별 실패 횟수\n",
    "    prob={i+1:failed[i]/tried[i] if tried[i] !=0 else 0 for i in range(N)} #단계별 실패 확률\n",
    "    sdict = sorted(prob.items(),key=lambda x: x[1],reverse=True) #정렬\n",
    "    return [sd[0] for sd in sdict]"
   ]
  },
  {
   "cell_type": "code",
   "execution_count": 103,
   "metadata": {},
   "outputs": [
    {
     "data": {
      "text/plain": [
       "[3, 4, 2, 1, 5]"
      ]
     },
     "execution_count": 103,
     "metadata": {},
     "output_type": "execute_result"
    }
   ],
   "source": [
    "solution(5,[2, 1, 2, 6, 2, 4, 3, 3])"
   ]
  },
  {
   "cell_type": "code",
   "execution_count": null,
   "metadata": {},
   "outputs": [],
   "source": []
  }
 ],
 "metadata": {
  "kernelspec": {
   "display_name": "Python 3",
   "language": "python",
   "name": "python3"
  },
  "language_info": {
   "codemirror_mode": {
    "name": "ipython",
    "version": 3
   },
   "file_extension": ".py",
   "mimetype": "text/x-python",
   "name": "python",
   "nbconvert_exporter": "python",
   "pygments_lexer": "ipython3",
   "version": "3.6.8"
  }
 },
 "nbformat": 4,
 "nbformat_minor": 4
}
