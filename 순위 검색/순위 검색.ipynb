{
 "cells": [
  {
   "cell_type": "code",
   "execution_count": 182,
   "metadata": {},
   "outputs": [],
   "source": [
    "def solution(info, query):\n",
    "    data = dict()\n",
    "    for a in ['cpp', 'java', 'python', '-']:\n",
    "        for b in ['backend', 'frontend', '-']:\n",
    "            for c in ['junior', 'senior', '-']:\n",
    "                for d in ['chicken', 'pizza', '-']:\n",
    "                    data.setdefault((a, b, c, d), list()) #모든 경우의 수 만듬\n",
    "    for i in info:\n",
    "        i = i.split()\n",
    "        for a in [i[0], '-']:\n",
    "            for b in [i[1], '-']:\n",
    "                for c in [i[2], '-']:\n",
    "                    for d in [i[3], '-']:\n",
    "                        data[(a, b, c, d)].append(int(i[4])) #모든 경우중 만족하는 경우에 점수 리스트 생성\n",
    "    for k in data:\n",
    "        data[k].sort()\n",
    "    \n",
    "    answer = list()\n",
    "    for q in query: #쿼리중에서 만족하는 경우 중 만족하는 점수의 갯수 출력\n",
    "        q = q.split()\n",
    "\n",
    "        pool = data[(q[0], q[2], q[4], q[6])]\n",
    "        find = int(q[7])\n",
    "        l = 0\n",
    "        r = len(pool)\n",
    "        mid = 0\n",
    "        while l < r: #이진 탐색\n",
    "            mid = (r+l)//2\n",
    "            if pool[mid] >= find:\n",
    "                r = mid\n",
    "            else:\n",
    "                l = mid+1\n",
    "        answer.append(len(pool)-l)\n",
    "\n",
    "    return answer\n",
    "    print(data)"
   ]
  },
  {
   "cell_type": "code",
   "execution_count": 197,
   "metadata": {},
   "outputs": [
    {
     "data": {
      "text/plain": [
       "[1, 1, 1, 1, 2, 4]"
      ]
     },
     "execution_count": 197,
     "metadata": {},
     "output_type": "execute_result"
    }
   ],
   "source": [
    "solution([\"java backend junior pizza 150\",\"python frontend senior chicken 210\",\"python frontend senior chicken 150\",\"cpp backend senior pizza 260\",\"java backend junior chicken 80\",\"python backend senior chicken 50\"],[\"java and backend and junior and pizza 100\",\"python and frontend and senior and chicken 200\",\"cpp and - and senior and pizza 250\",\"- and backend and senior and - 150\",\"- and - and - and chicken 100\",\"- and - and - and - 150\"])"
   ]
  },
  {
   "cell_type": "code",
   "execution_count": 132,
   "metadata": {},
   "outputs": [
    {
     "data": {
      "text/plain": [
       "'cppjava-backendfrontendjuniorseniorchickenpizza'"
      ]
     },
     "execution_count": 132,
     "metadata": {},
     "output_type": "execute_result"
    }
   ],
   "source": [
    "''.join(values)"
   ]
  },
  {
   "cell_type": "code",
   "execution_count": null,
   "metadata": {},
   "outputs": [],
   "source": []
  }
 ],
 "metadata": {
  "kernelspec": {
   "display_name": "Python 3",
   "language": "python",
   "name": "python3"
  },
  "language_info": {
   "codemirror_mode": {
    "name": "ipython",
    "version": 3
   },
   "file_extension": ".py",
   "mimetype": "text/x-python",
   "name": "python",
   "nbconvert_exporter": "python",
   "pygments_lexer": "ipython3",
   "version": "3.6.8"
  }
 },
 "nbformat": 4,
 "nbformat_minor": 4
}
