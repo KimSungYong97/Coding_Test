{
 "cells": [
  {
   "cell_type": "code",
   "execution_count": 43,
   "metadata": {},
   "outputs": [],
   "source": [
    "def isright(s):\n",
    "    stack=[]\n",
    "    for i in s:\n",
    "        if(stack==[] or i =='[' or i == '{' or i =='('): #stack이 비어잇거나 여는 괄호면 append\n",
    "            stack.append(i)\n",
    "        elif((i == ']' and stack[-1]=='[') or( i == '}' and stack[-1]=='{') or (i == ')' and stack[-1]=='(')): \n",
    "            # 닫는 괄호가 여는 괄호랑 잘 맞아다면 맞는 여는 괄호를 stack에서 제거\n",
    "            stack.pop()\n",
    "        else:\n",
    "            # 닫는 괄호가 여는 괄호랑 안맞는다면 return False\n",
    "            return False\n",
    "    if(stack==[]): #stack이 비어있으면 모두 잘 맞아떨어진것이므로 return True\n",
    "        return True\n",
    "    else: #stack이 채워져있으면 안맞는 괄호가 있는것이기 때문에 return False\n",
    "        return False\n",
    "                \n",
    "def solution(s):\n",
    "    s=[i for i in s]\n",
    "    answer = 0\n",
    "    for i in range(len(s)):\n",
    "        if(isright(s[i:]+s[:i])): #문자열이 올바른 문자열이면\n",
    "            answer+=1 #answer+1\n",
    "    return answer"
   ]
  },
  {
   "cell_type": "code",
   "execution_count": 44,
   "metadata": {},
   "outputs": [
    {
     "data": {
      "text/plain": [
       "2"
      ]
     },
     "execution_count": 44,
     "metadata": {},
     "output_type": "execute_result"
    }
   ],
   "source": [
    "solution(\"}]()[{\")"
   ]
  },
  {
   "cell_type": "code",
   "execution_count": null,
   "metadata": {},
   "outputs": [],
   "source": []
  }
 ],
 "metadata": {
  "kernelspec": {
   "display_name": "Python 3",
   "language": "python",
   "name": "python3"
  }
 },
 "nbformat": 4,
 "nbformat_minor": 4
}
