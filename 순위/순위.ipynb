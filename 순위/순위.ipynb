{
 "cells": [
  {
   "cell_type": "code",
   "execution_count": 51,
   "metadata": {},
   "outputs": [],
   "source": [
    "def solution(n, results):\n",
    "    graph=[[2 if i == j else 0 for i in range(n)] for j in range(n)] #인접행렬 생성\n",
    "    for _ in range(n//2+1):\n",
    "        for result in results: #상호 플레이어간 승패 정보 교환\n",
    "            graph[result[0]-1][result[1]-1]=1\n",
    "            graph[result[1]-1][result[0]-1]=-1\n",
    "            graph[result[0]-1] = [1 if(graph[result[1]-1][i] == 1) else graph[result[0]-1][i] for i in range(n)]\n",
    "            graph[result[1]-1] = [-1 if(graph[result[0]-1][i] == -1) else graph[result[1]-1][i] for i in range(n)]\n",
    "    \n",
    "    answer=0\n",
    "    for g in graph: #모든 정보를 갖고있는 플레이어 수 확인\n",
    "        if(all(g)):\n",
    "            answer+=1\n",
    "    return answer"
   ]
  },
  {
   "cell_type": "code",
   "execution_count": 52,
   "metadata": {},
   "outputs": [
    {
     "data": {
      "text/plain": [
       "2"
      ]
     },
     "execution_count": 52,
     "metadata": {},
     "output_type": "execute_result"
    }
   ],
   "source": [
    "solution(5,[[4, 3], [4, 2], [3, 2], [1, 2], [2, 5]])"
   ]
  },
  {
   "cell_type": "code",
   "execution_count": null,
   "metadata": {},
   "outputs": [],
   "source": []
  }
 ],
 "metadata": {
  "kernelspec": {
   "display_name": "Python 3",
   "language": "python",
   "name": "python3"
  },
  "language_info": {
   "codemirror_mode": {
    "name": "ipython",
    "version": 3
   },
   "file_extension": ".py",
   "mimetype": "text/x-python",
   "name": "python",
   "nbconvert_exporter": "python",
   "pygments_lexer": "ipython3",
   "version": "3.6.8"
  }
 },
 "nbformat": 4,
 "nbformat_minor": 4
}
