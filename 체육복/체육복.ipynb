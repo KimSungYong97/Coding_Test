{
 "cells": [
  {
   "cell_type": "code",
   "execution_count": 1,
   "metadata": {},
   "outputs": [],
   "source": [
    "def solution(n,lost,reserve):\n",
    "    reserve_cpy=reserve.copy()\n",
    "    lost_cpy=lost.copy()\n",
    "    for i in reserve_cpy:\n",
    "        if(i in lost_cpy):\n",
    "            del reserve[reserve.index(i)]\n",
    "            del lost[lost.index(i)]\n",
    "    \n",
    "    lost=[0 if x in lost else 1 for x in range(1,n+1)]\n",
    "    reserve=[1 if x in reserve else 0 for x in range(1,n+1)]\n",
    "    \n",
    "    \n",
    "    for i in range(len(reserve)):\n",
    "        if(i !=0and reserve[i] and lost[i-1]==0):\n",
    "            lost[i-1]+=1\n",
    "            reserve[i]-=1\n",
    "        if(i!=len(lost)-1 and reserve[i] and lost[i+1]==0):\n",
    "            lost[i+1]+=1\n",
    "            reserve[i]-=1\n",
    "    \n",
    "    return sum(lost)\n",
    "            \n",
    "        "
   ]
  },
  {
   "cell_type": "code",
   "execution_count": 2,
   "metadata": {},
   "outputs": [
    {
     "data": {
      "text/plain": [
       "5"
      ]
     },
     "execution_count": 2,
     "metadata": {},
     "output_type": "execute_result"
    }
   ],
   "source": [
    "solution(5,[2, 4],[1, 3, 5])"
   ]
  },
  {
   "cell_type": "code",
   "execution_count": null,
   "metadata": {},
   "outputs": [],
   "source": []
  }
 ],
 "metadata": {
  "kernelspec": {
   "display_name": "Python 3",
   "language": "python",
   "name": "python3"
  },
  "language_info": {
   "codemirror_mode": {
    "name": "ipython",
    "version": 3
   },
   "file_extension": ".py",
   "mimetype": "text/x-python",
   "name": "python",
   "nbconvert_exporter": "python",
   "pygments_lexer": "ipython3",
   "version": "3.6.8"
  }
 },
 "nbformat": 4,
 "nbformat_minor": 4
}
