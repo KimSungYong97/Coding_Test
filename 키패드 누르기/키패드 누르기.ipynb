{
 "cells": [
  {
   "cell_type": "code",
   "execution_count": 1,
   "metadata": {},
   "outputs": [],
   "source": [
    "def dist(lst1,lst2):\n",
    "    value=0\n",
    "    value+=lst1[0] - lst2[0] if lst1[0] >= lst2[0] else lst2[0] - lst1[0]\n",
    "    value+=lst1[1] - lst2[1] if lst1[1] >= lst2[1] else lst2[1] - lst1[1]\n",
    "    return value\n",
    "def solution(numbers, hand):\n",
    "    hand_loc={1:[0,0],2:[0,1],3:[0,2],4:[1,0],5:[1,1],6:[1,2],7:[2,0],8:[2,1],9:[2,2],0:[3,1]}\n",
    "    same=chr(ord(hand[0])-32)\n",
    "    answer=''\n",
    "    RH=[3,2]\n",
    "    LH=[3,0]\n",
    "    for i in numbers:\n",
    "        if(i ==1 or i == 4 or i ==7):\n",
    "            answer+=('L')\n",
    "            LH=hand_loc[i]\n",
    "        elif(i ==3 or i ==6 or i == 9):\n",
    "            answer+=('R')\n",
    "            RH=hand_loc[i]\n",
    "        else:\n",
    "            if(dist(LH,hand_loc[i])>dist(RH,hand_loc[i])):\n",
    "                answer+=('R')\n",
    "                RH=hand_loc[i]\n",
    "            elif(dist(LH,hand_loc[i])<dist(RH,hand_loc[i])):\n",
    "                answer+=('L')\n",
    "                LH=hand_loc[i]\n",
    "            else:\n",
    "                answer+=(same)\n",
    "                if(same=='L'):\n",
    "                    LH=hand_loc[i]\n",
    "                else:\n",
    "                    RH=hand_loc[i]\n",
    "    return answer"
   ]
  },
  {
   "cell_type": "code",
   "execution_count": 2,
   "metadata": {},
   "outputs": [
    {
     "data": {
      "text/plain": [
       "'LRLLLRLLRRL'"
      ]
     },
     "execution_count": 2,
     "metadata": {},
     "output_type": "execute_result"
    }
   ],
   "source": [
    "solution([1, 3, 4, 5, 8, 2, 1, 4, 5, 9, 5],'right')"
   ]
  },
  {
   "cell_type": "code",
   "execution_count": null,
   "metadata": {},
   "outputs": [],
   "source": []
  }
 ],
 "metadata": {
  "kernelspec": {
   "display_name": "Python 3",
   "language": "python",
   "name": "python3"
  },
  "language_info": {
   "codemirror_mode": {
    "name": "ipython",
    "version": 3
   },
   "file_extension": ".py",
   "mimetype": "text/x-python",
   "name": "python",
   "nbconvert_exporter": "python",
   "pygments_lexer": "ipython3",
   "version": "3.6.8"
  }
 },
 "nbformat": 4,
 "nbformat_minor": 4
}
